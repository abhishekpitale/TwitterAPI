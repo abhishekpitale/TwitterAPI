{
 "cells": [
  {
   "cell_type": "code",
   "execution_count": 2,
   "id": "bab142b6",
   "metadata": {},
   "outputs": [],
   "source": [
    "import tweepy \n",
    "from tweepy import OAuthHandler # to authenticate Twitter API\n",
    "from tweepy import Stream \n",
    "from tweepy.streaming import Stream\n",
    "import socket \n",
    "import json \n",
    "\n",
    "\n",
    "# Twitter developer Credentials to connect to twitter account\n",
    "\n",
    "access_token = \"775387938246959105-bePYWakFTX794krFgVAi2EBapt3EDIx\"\n",
    "access_secret = \"n6xrH73kU3YOlvEpZ0OvOdJu2QBoegNRSnTN7UZFyrsYP\"\n",
    "consumer_key = \"c84Q9KzWwhn7CCVpIfVsRUeGH\"\n",
    "consumer_secret = \"g3I9PTu0ivrieqUuW67K32qk1pTicRRKDUsHF4SuuiQbEh7GQT\"\n",
    "\n",
    "# we create this class that inherits from the StreamListener in tweepy StreamListener\n",
    "class TweetsListener(Stream):\n",
    "\n",
    "    def __init__(self, *args, csocket):\n",
    "        super().__init__(*args)\n",
    "        self.client_socket = csocket\n",
    "    # we override the on_data() function in StreamListener\n",
    "    def on_data(self, data):\n",
    "        try:\n",
    "            message = json.loads( data )\n",
    "            print( message['text'].encode('utf-8') )\n",
    "            self.client_socket.send( message['text'].encode('utf-8') )\n",
    "            return True\n",
    "        except BaseException as e:\n",
    "            print(\"Error on_data: %s\" % str(e))\n",
    "        return True\n",
    "\n",
    "    def if_error(self, status):\n",
    "        print(status)\n",
    "        return True\n",
    "\n"
   ]
  },
  {
   "cell_type": "code",
   "execution_count": 3,
   "id": "03ec19e0",
   "metadata": {},
   "outputs": [],
   "source": [
    "access_token = \"775387938246959105-bePYWakFTX794krFgVAi2EBapt3EDIx\"\n",
    "access_secret = \"n6xrH73kU3YOlvEpZ0OvOdJu2QBoegNRSnTN7UZFyrsYP\"\n",
    "consumer_key = \"c84Q9KzWwhn7CCVpIfVsRUeGH\"\n",
    "consumer_secret = \"g3I9PTu0ivrieqUuW67K32qk1pTicRRKDUsHF4SuuiQbEh7GQT\""
   ]
  },
  {
   "cell_type": "code",
   "execution_count": 57,
   "id": "a9e339ea",
   "metadata": {},
   "outputs": [],
   "source": [
    "s.close()"
   ]
  },
  {
   "cell_type": "code",
   "execution_count": 4,
   "id": "83496480",
   "metadata": {},
   "outputs": [],
   "source": [
    "# def send_tweets(c_socket):\n",
    "#     auth = OAuthHandler(consumer_key, consumer_secret)\n",
    "#     auth.set_access_token(access_token, access_secret)\n",
    "    \n",
    "#     twitter_stream = Stream(auth, TweetsListener(c_socket))\n",
    "#     twitter_stream.filter(track=['football']) #we are interested in this topic.\n",
    "    \n",
    "def send_tweets(c_socket):\n",
    "    twtr_stream = TweetsListener(\n",
    "        consumer_key, consumer_secret,\n",
    "        access_token, access_secret,\n",
    "        csocket=c_socket\n",
    "    )\n",
    "    twtr_stream.filter(track=['corona'])"
   ]
  },
  {
   "cell_type": "code",
   "execution_count": 10,
   "id": "552874d1",
   "metadata": {
    "scrolled": true
   },
   "outputs": [
    {
     "name": "stdout",
     "output_type": "stream",
     "text": [
      "Now listening on port: 3354\n"
     ]
    },
    {
     "ename": "KeyboardInterrupt",
     "evalue": "",
     "output_type": "error",
     "traceback": [
      "\u001b[0;31m---------------------------------------------------------------------------\u001b[0m",
      "\u001b[0;31mKeyboardInterrupt\u001b[0m                         Traceback (most recent call last)",
      "Input \u001b[0;32mIn [10]\u001b[0m, in \u001b[0;36m<cell line: 1>\u001b[0;34m()\u001b[0m\n\u001b[1;32m      7\u001b[0m \u001b[38;5;28mprint\u001b[39m(\u001b[38;5;124m\"\u001b[39m\u001b[38;5;124mNow listening on port: \u001b[39m\u001b[38;5;132;01m%s\u001b[39;00m\u001b[38;5;124m\"\u001b[39m \u001b[38;5;241m%\u001b[39m \u001b[38;5;28mstr\u001b[39m(port))\n\u001b[1;32m      9\u001b[0m new_skt\u001b[38;5;241m.\u001b[39mlisten(\u001b[38;5;241m5\u001b[39m)                 \u001b[38;5;66;03m#  waiting for client connection.\u001b[39;00m\n\u001b[0;32m---> 10\u001b[0m c, addr \u001b[38;5;241m=\u001b[39m \u001b[43mnew_skt\u001b[49m\u001b[38;5;241;43m.\u001b[39;49m\u001b[43maccept\u001b[49m\u001b[43m(\u001b[49m\u001b[43m)\u001b[49m        \u001b[38;5;66;03m# Establish connection with client. it returns first a socket object,c, and the address bound to the socket\u001b[39;00m\n\u001b[1;32m     12\u001b[0m \u001b[38;5;28mprint\u001b[39m(\u001b[38;5;124m\"\u001b[39m\u001b[38;5;124mReceived request from: \u001b[39m\u001b[38;5;124m\"\u001b[39m \u001b[38;5;241m+\u001b[39m \u001b[38;5;28mstr\u001b[39m(addr))\n\u001b[1;32m     13\u001b[0m \u001b[38;5;66;03m# and after accepting the connection, we aill sent the tweets through the socket\u001b[39;00m\n",
      "File \u001b[0;32m/opt/homebrew/Cellar/python@3.9/3.9.12/Frameworks/Python.framework/Versions/3.9/lib/python3.9/socket.py:293\u001b[0m, in \u001b[0;36msocket.accept\u001b[0;34m(self)\u001b[0m\n\u001b[1;32m    286\u001b[0m \u001b[38;5;28;01mdef\u001b[39;00m \u001b[38;5;21maccept\u001b[39m(\u001b[38;5;28mself\u001b[39m):\n\u001b[1;32m    287\u001b[0m     \u001b[38;5;124;03m\"\"\"accept() -> (socket object, address info)\u001b[39;00m\n\u001b[1;32m    288\u001b[0m \n\u001b[1;32m    289\u001b[0m \u001b[38;5;124;03m    Wait for an incoming connection.  Return a new socket\u001b[39;00m\n\u001b[1;32m    290\u001b[0m \u001b[38;5;124;03m    representing the connection, and the address of the client.\u001b[39;00m\n\u001b[1;32m    291\u001b[0m \u001b[38;5;124;03m    For IP sockets, the address info is a pair (hostaddr, port).\u001b[39;00m\n\u001b[1;32m    292\u001b[0m \u001b[38;5;124;03m    \"\"\"\u001b[39;00m\n\u001b[0;32m--> 293\u001b[0m     fd, addr \u001b[38;5;241m=\u001b[39m \u001b[38;5;28;43mself\u001b[39;49m\u001b[38;5;241;43m.\u001b[39;49m\u001b[43m_accept\u001b[49m\u001b[43m(\u001b[49m\u001b[43m)\u001b[49m\n\u001b[1;32m    294\u001b[0m     sock \u001b[38;5;241m=\u001b[39m socket(\u001b[38;5;28mself\u001b[39m\u001b[38;5;241m.\u001b[39mfamily, \u001b[38;5;28mself\u001b[39m\u001b[38;5;241m.\u001b[39mtype, \u001b[38;5;28mself\u001b[39m\u001b[38;5;241m.\u001b[39mproto, fileno\u001b[38;5;241m=\u001b[39mfd)\n\u001b[1;32m    295\u001b[0m     \u001b[38;5;66;03m# Issue #7995: if no default timeout is set and the listening\u001b[39;00m\n\u001b[1;32m    296\u001b[0m     \u001b[38;5;66;03m# socket had a (non-zero) timeout, force the new socket in blocking\u001b[39;00m\n\u001b[1;32m    297\u001b[0m     \u001b[38;5;66;03m# mode to override platform-specific socket flags inheritance.\u001b[39;00m\n",
      "\u001b[0;31mKeyboardInterrupt\u001b[0m: "
     ]
    }
   ],
   "source": [
    "if __name__ == \"__main__\":\n",
    "    new_skt = socket.socket()         # initiate a socket object\n",
    "    host = \"127.0.0.1\"     # local machine address\n",
    "    port = 3354                 # specific port for your service.\n",
    "    new_skt.bind((host, port))        # Binding host and port\n",
    "\n",
    "    print(\"Now listening on port: %s\" % str(port))\n",
    "\n",
    "    new_skt.listen(5)                 #  waiting for client connection.\n",
    "    c, addr = new_skt.accept()        # Establish connection with client. it returns first a socket object,c, and the address bound to the socket\n",
    "\n",
    "    print(\"Received request from: \" + str(addr))\n",
    "    # and after accepting the connection, we aill sent the tweets through the socket\n",
    "    send_tweets(c)"
   ]
  },
  {
   "cell_type": "code",
   "execution_count": null,
   "id": "969f52ad",
   "metadata": {},
   "outputs": [],
   "source": []
  }
 ],
 "metadata": {
  "kernelspec": {
   "display_name": "Python 3 (ipykernel)",
   "language": "python",
   "name": "python3"
  },
  "language_info": {
   "codemirror_mode": {
    "name": "ipython",
    "version": 3
   },
   "file_extension": ".py",
   "mimetype": "text/x-python",
   "name": "python",
   "nbconvert_exporter": "python",
   "pygments_lexer": "ipython3",
   "version": "3.9.12"
  }
 },
 "nbformat": 4,
 "nbformat_minor": 5
}
